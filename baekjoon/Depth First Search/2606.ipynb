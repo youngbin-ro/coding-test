{
 "cells": [
  {
   "cell_type": "markdown",
   "metadata": {},
   "source": [
    "# 백준 알고리즘 2606번\n",
    "- 문제 링크:https://www.acmicpc.net/problem/2606"
   ]
  },
  {
   "cell_type": "markdown",
   "metadata": {},
   "source": [
    "## 문제\n",
    "생략"
   ]
  },
  {
   "cell_type": "markdown",
   "metadata": {},
   "source": [
    "## 입력\n",
    "첫째 줄에는 컴퓨터의 수가 주어진다. 컴퓨터의 수는 100 이하이고 각 컴퓨터에는 1번 부터 차례대로 번호가 매겨진다. 둘째 줄에는 네트워크 상에서 직접 연결되어 있는 컴퓨터 쌍의 수가 주어진다. 이어서 그 수만큼 한 줄에 한 쌍씩 네트워크 상에서 직접 연결되어 있는 컴퓨터의 번호 쌍이 주어진다."
   ]
  },
  {
   "cell_type": "markdown",
   "metadata": {},
   "source": [
    "## 출력\n",
    "1번 컴퓨터가 웜 바이러스에 걸렸을 때, 1번 컴퓨터를 통해 웜 바이러스에 걸리게 되는 컴퓨터의 수를 첫째 줄에 출력한다."
   ]
  },
  {
   "cell_type": "markdown",
   "metadata": {},
   "source": [
    "## 풀이"
   ]
  },
  {
   "cell_type": "markdown",
   "metadata": {},
   "source": [
    "#### 제출 코드"
   ]
  },
  {
   "cell_type": "code",
   "execution_count": null,
   "metadata": {},
   "outputs": [],
   "source": [
    "import sys, collections\n",
    "read = sys.stdin.readline\n",
    "n_nodes = int(read())\n",
    "graph = collections.defaultdict(list)\n",
    "for _ in range(int(read())):\n",
    "    node1, node2 = list(read().split())\n",
    "    graph[node2].append(node1)\n",
    "    graph[node1].append(node2)\n",
    "\n",
    "def dfs(root):\n",
    "    searched.append(root)\n",
    "    for child in graph[root]:\n",
    "        if child not in searched:\n",
    "            dfs(child)\n",
    "\n",
    "searched = []\n",
    "dfs('1')\n",
    "print(len(searched) - 1)"
   ]
  },
  {
   "cell_type": "markdown",
   "metadata": {},
   "source": [
    "#### 정리 코드"
   ]
  },
  {
   "cell_type": "code",
   "execution_count": 10,
   "metadata": {},
   "outputs": [],
   "source": [
    "import collections\n",
    "def solution(input_):\n",
    "    n_nodes, n_edges, *edges = input_.split('\\n')\n",
    "    graph = collections.defaultdict(str)\n",
    "    for edge in edges:\n",
    "        graph[edge[0]] += edge[1]\n",
    "        graph[edge[1]] += edge[0]\n",
    "        \n",
    "    def dfs(root, searched):\n",
    "        searched.append(root)\n",
    "        for child in graph[root]:\n",
    "            if child not in searched:\n",
    "                searched = dfs(child, searched)\n",
    "        return searched\n",
    "    \n",
    "    print(len(dfs('1', [])))"
   ]
  },
  {
   "cell_type": "markdown",
   "metadata": {},
   "source": [
    "## 예제"
   ]
  },
  {
   "cell_type": "code",
   "execution_count": 11,
   "metadata": {},
   "outputs": [
    {
     "name": "stdout",
     "output_type": "stream",
     "text": [
      "5\n"
     ]
    }
   ],
   "source": [
    "input1 = \\\n",
    "\"\"\"5\n",
    "6\n",
    "12\n",
    "23\n",
    "15\n",
    "52\n",
    "56\n",
    "47\"\"\"\n",
    "solution(input1)"
   ]
  }
 ],
 "metadata": {
  "kernelspec": {
   "display_name": "Python 3",
   "language": "python",
   "name": "python3"
  },
  "language_info": {
   "codemirror_mode": {
    "name": "ipython",
    "version": 3
   },
   "file_extension": ".py",
   "mimetype": "text/x-python",
   "name": "python",
   "nbconvert_exporter": "python",
   "pygments_lexer": "ipython3",
   "version": "3.7.4"
  }
 },
 "nbformat": 4,
 "nbformat_minor": 2
}
